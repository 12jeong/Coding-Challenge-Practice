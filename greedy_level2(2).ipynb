{
  "nbformat": 4,
  "nbformat_minor": 0,
  "metadata": {
    "colab": {
      "name": "greedy_level2(2).ipynb",
      "provenance": [],
      "collapsed_sections": [],
      "authorship_tag": "ABX9TyOPEe9iqI7u4MQmGaZGetvJ",
      "include_colab_link": true
    },
    "kernelspec": {
      "name": "python3",
      "display_name": "Python 3"
    }
  },
  "cells": [
    {
      "cell_type": "markdown",
      "metadata": {
        "id": "view-in-github",
        "colab_type": "text"
      },
      "source": [
        "<a href=\"https://colab.research.google.com/github/12jeong/Coding-Challenge-Practice/blob/master/greedy_level2(2).ipynb\" target=\"_parent\"><img src=\"https://colab.research.google.com/assets/colab-badge.svg\" alt=\"Open In Colab\"/></a>"
      ]
    },
    {
      "cell_type": "markdown",
      "metadata": {
        "id": "vQATOK0xpySr",
        "colab_type": "text"
      },
      "source": [
        "###숫자야구 게임 \n",
        "https://programmers.co.kr/learn/courses/30/lessons/42841"
      ]
    },
    {
      "cell_type": "code",
      "metadata": {
        "id": "neSapnPQpuyk",
        "colab_type": "code",
        "colab": {}
      },
      "source": [
        "from itertools import permutations\n",
        "def solution(baseball):\n",
        "    numbers = list(permutations([1,2,3,4,5,6,7,8,9],3)) # 모든 조합을 만들어놓고\n",
        "    candidate = numbers.copy()\n",
        "    for number in numbers:\n",
        "        for x,s,b in baseball:\n",
        "            x1 = int(x/100)\n",
        "            x2 = int(x%100/10)\n",
        "            x3 = int(x%100%10)\n",
        "            ball = 0\n",
        "            strike = 0\n",
        "            if x1 in number:\n",
        "                if x1 == number[0]:\n",
        "                    strike += 1\n",
        "                else:\n",
        "                    ball += 1\n",
        "            if x2 in number:\n",
        "                if x2 == number[1]:\n",
        "                    strike += 1\n",
        "                else:\n",
        "                    ball += 1\n",
        "            if x3 in number:\n",
        "                if x3 == number[2]:\n",
        "                    strike += 1\n",
        "                else:\n",
        "                    ball += 1\n",
        "                    \n",
        "            if ((strike==s) & (ball==b)):\n",
        "                continue\n",
        "            else:\n",
        "                candidate.remove(number) # 주어진 조건과 일치하지 않으면 후보에서 제거 \n",
        "                break\n",
        "    answer = len(candidate)\n",
        "    return answer\n"
      ],
      "execution_count": 0,
      "outputs": []
    }
  ]
}