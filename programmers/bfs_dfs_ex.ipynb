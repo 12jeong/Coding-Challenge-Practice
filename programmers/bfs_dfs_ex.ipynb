{
  "nbformat": 4,
  "nbformat_minor": 0,
  "metadata": {
    "colab": {
      "name": "bfs/dfs_ex.ipynb",
      "provenance": [],
      "collapsed_sections": [],
      "authorship_tag": "ABX9TyPGNfyiyp56IY2cWqnaWqRm",
      "include_colab_link": true
    },
    "kernelspec": {
      "name": "python3",
      "display_name": "Python 3"
    }
  },
  "cells": [
    {
      "cell_type": "markdown",
      "metadata": {
        "id": "view-in-github",
        "colab_type": "text"
      },
      "source": [
        "<a href=\"https://colab.research.google.com/github/12jeong/Coding-Challenge-Practice/blob/master/programmers/bfs_dfs_ex.ipynb\" target=\"_parent\"><img src=\"https://colab.research.google.com/assets/colab-badge.svg\" alt=\"Open In Colab\"/></a>"
      ]
    },
    {
      "cell_type": "markdown",
      "metadata": {
        "id": "IBsDB5hZfDgZ",
        "colab_type": "text"
      },
      "source": [
        "참고자료: [python] 파이썬으로 bfs, dfs 구현해보기\n",
        "https://itholic.github.io/python-bfs-dfs/"
      ]
    },
    {
      "cell_type": "code",
      "metadata": {
        "id": "3Bodt0vPdtxo",
        "colab_type": "code",
        "colab": {}
      },
      "source": [
        "graph = {\n",
        "    'A': ['B'],\n",
        "    'B': ['A', 'C', 'H'],\n",
        "    'C': ['B', 'D'],\n",
        "    'D': ['C', 'E', 'G'],\n",
        "    'E': ['D', 'F'],\n",
        "    'F': ['E'],\n",
        "    'G': ['D'],\n",
        "    'H': ['B', 'I', 'J', 'M'],\n",
        "    'I': ['H'],\n",
        "    'J': ['H', 'K'],\n",
        "    'K': ['J', 'L'],\n",
        "    'L': ['K'],\n",
        "    'M': ['H']\n",
        "}"
      ],
      "execution_count": 0,
      "outputs": []
    },
    {
      "cell_type": "markdown",
      "metadata": {
        "id": "FC4xahVXel1X",
        "colab_type": "text"
      },
      "source": [
        "### Breath First Search (너비 우선 탐색, BFS)"
      ]
    },
    {
      "cell_type": "markdown",
      "metadata": {
        "id": "MYiWKQMNl3HI",
        "colab_type": "text"
      },
      "source": [
        "A - B - C - H - D - I - J - M - E - G - K - F - L\n",
        "\n"
      ]
    },
    {
      "cell_type": "code",
      "metadata": {
        "id": "Owk1Yqrcefjr",
        "colab_type": "code",
        "colab": {}
      },
      "source": [
        "def bfs(graph, start_node):\n",
        "    visit = list() # 방문한 노드 목록\n",
        "    queue = list() # 다음으로 방문할 노드 목록\n",
        "    queue.append(start_node)\n",
        "\n",
        "    while queue:\n",
        "        node = queue.pop(0)              # queue의 맨 앞에 있는 노드 추출 + 제거\n",
        "        if node not in visit:\n",
        "            visit.append(node)           # 방문한 적이 없으면 visit에 넣고\n",
        "            queue.extend(graph[node])    # 해당 노드에서 갈 수 있는 node를 queue에 넣는다\n",
        "            print('visit:',visit)\n",
        "            print('queue:',queue)\n",
        "            print('-------------------------------------')\n",
        "    return visit"
      ],
      "execution_count": 0,
      "outputs": []
    },
    {
      "cell_type": "code",
      "metadata": {
        "id": "Jg0HcUCehz1q",
        "colab_type": "code",
        "colab": {
          "base_uri": "https://localhost:8080/",
          "height": 737
        },
        "outputId": "0a517112-4fa7-46ac-ffc4-044b27338cc8"
      },
      "source": [
        "bfs(graph, 'A')"
      ],
      "execution_count": 52,
      "outputs": [
        {
          "output_type": "stream",
          "text": [
            "visit: ['A']\n",
            "queue: ['B']\n",
            "-------------------------------------\n",
            "visit: ['A', 'B']\n",
            "queue: ['A', 'C', 'H']\n",
            "-------------------------------------\n",
            "visit: ['A', 'B', 'C']\n",
            "queue: ['H', 'B', 'D']\n",
            "-------------------------------------\n",
            "visit: ['A', 'B', 'C', 'H']\n",
            "queue: ['B', 'D', 'B', 'I', 'J', 'M']\n",
            "-------------------------------------\n",
            "visit: ['A', 'B', 'C', 'H', 'D']\n",
            "queue: ['B', 'I', 'J', 'M', 'C', 'E', 'G']\n",
            "-------------------------------------\n",
            "visit: ['A', 'B', 'C', 'H', 'D', 'I']\n",
            "queue: ['J', 'M', 'C', 'E', 'G', 'H']\n",
            "-------------------------------------\n",
            "visit: ['A', 'B', 'C', 'H', 'D', 'I', 'J']\n",
            "queue: ['M', 'C', 'E', 'G', 'H', 'H', 'K']\n",
            "-------------------------------------\n",
            "visit: ['A', 'B', 'C', 'H', 'D', 'I', 'J', 'M']\n",
            "queue: ['C', 'E', 'G', 'H', 'H', 'K', 'H']\n",
            "-------------------------------------\n",
            "visit: ['A', 'B', 'C', 'H', 'D', 'I', 'J', 'M', 'E']\n",
            "queue: ['G', 'H', 'H', 'K', 'H', 'D', 'F']\n",
            "-------------------------------------\n",
            "visit: ['A', 'B', 'C', 'H', 'D', 'I', 'J', 'M', 'E', 'G']\n",
            "queue: ['H', 'H', 'K', 'H', 'D', 'F', 'D']\n",
            "-------------------------------------\n",
            "visit: ['A', 'B', 'C', 'H', 'D', 'I', 'J', 'M', 'E', 'G', 'K']\n",
            "queue: ['H', 'D', 'F', 'D', 'J', 'L']\n",
            "-------------------------------------\n",
            "visit: ['A', 'B', 'C', 'H', 'D', 'I', 'J', 'M', 'E', 'G', 'K', 'F']\n",
            "queue: ['D', 'J', 'L', 'E']\n",
            "-------------------------------------\n",
            "visit: ['A', 'B', 'C', 'H', 'D', 'I', 'J', 'M', 'E', 'G', 'K', 'F', 'L']\n",
            "queue: ['E', 'K']\n",
            "-------------------------------------\n"
          ],
          "name": "stdout"
        },
        {
          "output_type": "execute_result",
          "data": {
            "text/plain": [
              "['A', 'B', 'C', 'H', 'D', 'I', 'J', 'M', 'E', 'G', 'K', 'F', 'L']"
            ]
          },
          "metadata": {
            "tags": []
          },
          "execution_count": 52
        }
      ]
    },
    {
      "cell_type": "code",
      "metadata": {
        "id": "WhHtM_w3fp0G",
        "colab_type": "code",
        "colab": {}
      },
      "source": [
        "#### append vs extend\n",
        "# extend... 이런게 있었다니.. 내가 원했던 것 ㅠㅠ\n",
        "x1 = [1,2,3]\n",
        "x2 = [1,2,3]\n",
        "x1.append([4,5,6])\n",
        "x2.extend([4,5,6])"
      ],
      "execution_count": 0,
      "outputs": []
    },
    {
      "cell_type": "code",
      "metadata": {
        "id": "lx_VOUkAf6wM",
        "colab_type": "code",
        "colab": {
          "base_uri": "https://localhost:8080/",
          "height": 53
        },
        "outputId": "5c6a4aae-9cf6-489a-c48f-5633dcfc6d3f"
      },
      "source": [
        "print('append:',x1)\n",
        "print('extend:',x2)"
      ],
      "execution_count": 22,
      "outputs": [
        {
          "output_type": "stream",
          "text": [
            "append: [1, 2, 3, [4, 5, 6]]\n",
            "extend: [1, 2, 3, 4, 5, 6]\n"
          ],
          "name": "stdout"
        }
      ]
    },
    {
      "cell_type": "code",
      "metadata": {
        "id": "PXahHpoLlb7L",
        "colab_type": "code",
        "colab": {}
      },
      "source": [
        "def bfs(graph, start_node):\n",
        "    visit = {} # list는 시간효율이 나쁘다고 함\n",
        "    queue = list() \n",
        "    queue.append(start_node)\n",
        "\n",
        "    while queue:\n",
        "        node = queue.pop(0)             \n",
        "        if node not in visit:   # 여기서 O(n)\n",
        "            visit[node] = True\n",
        "            queue.extend(graph[node])  \n",
        "\n",
        "    return visit.keys()"
      ],
      "execution_count": 0,
      "outputs": []
    },
    {
      "cell_type": "code",
      "metadata": {
        "id": "zd67Bq1ils_F",
        "colab_type": "code",
        "colab": {
          "base_uri": "https://localhost:8080/",
          "height": 35
        },
        "outputId": "31b2b867-8163-4f75-e815-3f03dcccf73d"
      },
      "source": [
        "bfs(graph, 'A')"
      ],
      "execution_count": 69,
      "outputs": [
        {
          "output_type": "execute_result",
          "data": {
            "text/plain": [
              "dict_keys(['A', 'B', 'C', 'H', 'D', 'I', 'J', 'M', 'E', 'G', 'K', 'F', 'L'])"
            ]
          },
          "metadata": {
            "tags": []
          },
          "execution_count": 69
        }
      ]
    },
    {
      "cell_type": "code",
      "metadata": {
        "id": "Wcy4rIh3jjzt",
        "colab_type": "code",
        "colab": {}
      },
      "source": [
        "import queue\n",
        "def bfs(graph, start_node):\n",
        "    \n",
        "    visit = dict()\n",
        "    q = queue.Queue()                    # Queue 공부하기\n",
        "    q.put(start_node)\n",
        "\n",
        "    while q.qsize() >0 :\n",
        "        node = q.get()                   # q를 비운다\n",
        "        if node not in visit:     \n",
        "            visit[node] = True\n",
        "            for next_node in graph[node]:\n",
        "                q.put(next_node)\n",
        "    return visit.keys()"
      ],
      "execution_count": 0,
      "outputs": []
    },
    {
      "cell_type": "code",
      "metadata": {
        "id": "OXI4MJ57m8CF",
        "colab_type": "code",
        "colab": {
          "base_uri": "https://localhost:8080/",
          "height": 35
        },
        "outputId": "83cbbff7-d5e5-44b7-9d6a-ee2a562bd79e"
      },
      "source": [
        "bfs(graph, 'A')"
      ],
      "execution_count": 77,
      "outputs": [
        {
          "output_type": "execute_result",
          "data": {
            "text/plain": [
              "dict_keys(['A', 'B', 'C', 'H', 'D', 'I', 'J', 'M', 'E', 'G', 'K', 'F', 'L'])"
            ]
          },
          "metadata": {
            "tags": []
          },
          "execution_count": 77
        }
      ]
    },
    {
      "cell_type": "markdown",
      "metadata": {
        "id": "EBsol-Cret1o",
        "colab_type": "text"
      },
      "source": [
        "### Depth First Search (깊이 우선 탐색, DFS)"
      ]
    },
    {
      "cell_type": "markdown",
      "metadata": {
        "id": "HW7BYv49nTXU",
        "colab_type": "text"
      },
      "source": [
        "A - B- C - D - E - F - G - H - I - J - K - L - M"
      ]
    },
    {
      "cell_type": "code",
      "metadata": {
        "id": "ZSnh0D-EnM9f",
        "colab_type": "code",
        "colab": {}
      },
      "source": [
        "def dfs(graph, start_node):\n",
        "    visit = dict()\n",
        "    stack = list()\n",
        "\n",
        "    stack.append(start_node)\n",
        "\n",
        "    while stack:\n",
        "        node = stack.pop() # 제일 마지막에 있는 node부터 탐색\n",
        "        if node not in visit:\n",
        "            visit[node] = True\n",
        "            stack.extend(graph[node])\n",
        "\n",
        "    return visit"
      ],
      "execution_count": 0,
      "outputs": []
    }
  ]
}