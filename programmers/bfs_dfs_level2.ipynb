{
  "nbformat": 4,
  "nbformat_minor": 0,
  "metadata": {
    "colab": {
      "name": "bfs_dfs_level2.ipynb",
      "provenance": [],
      "authorship_tag": "ABX9TyODERhbApAvTyCMTA2yqW+z",
      "include_colab_link": true
    },
    "kernelspec": {
      "name": "python3",
      "display_name": "Python 3"
    }
  },
  "cells": [
    {
      "cell_type": "markdown",
      "metadata": {
        "id": "view-in-github",
        "colab_type": "text"
      },
      "source": [
        "<a href=\"https://colab.research.google.com/github/12jeong/Coding-Challenge-Practice/blob/master/programmers/bfs_dfs_level2.ipynb\" target=\"_parent\"><img src=\"https://colab.research.google.com/assets/colab-badge.svg\" alt=\"Open In Colab\"/></a>"
      ]
    },
    {
      "cell_type": "markdown",
      "metadata": {
        "id": "qQXv9nsu0Z-c",
        "colab_type": "text"
      },
      "source": [
        "### 타겟넘버\n",
        "https://programmers.co.kr/learn/courses/30/lessons/43165"
      ]
    },
    {
      "cell_type": "code",
      "metadata": {
        "id": "AJHOQs4TzA8d",
        "colab_type": "code",
        "colab": {}
      },
      "source": [
        "def solution(numbers, target):\n",
        "    result = [0]\n",
        "    for n in numbers:\n",
        "        visit = []\n",
        "        for x in result:\n",
        "            visit.append(x+n)\n",
        "            visit.append(x-n)\n",
        "        result = visit\n",
        "        print(result)\n",
        "    return result.count(target)"
      ],
      "execution_count": 0,
      "outputs": []
    },
    {
      "cell_type": "code",
      "metadata": {
        "id": "H2rH96Kn0d2J",
        "colab_type": "code",
        "colab": {
          "base_uri": "https://localhost:8080/",
          "height": 107
        },
        "outputId": "b13c95d7-2266-4514-a0f7-daba092dce99"
      },
      "source": [
        "solution([1,2,2,3],4)"
      ],
      "execution_count": 39,
      "outputs": [
        {
          "output_type": "stream",
          "text": [
            "[1, -1]\n",
            "[3, -1, 1, -3]\n",
            "[5, 1, 1, -3, 3, -1, -1, -5]\n",
            "[8, 2, 4, -2, 4, -2, 0, -6, 6, 0, 2, -4, 2, -4, -2, -8]\n"
          ],
          "name": "stdout"
        },
        {
          "output_type": "execute_result",
          "data": {
            "text/plain": [
              "2"
            ]
          },
          "metadata": {
            "tags": []
          },
          "execution_count": 39
        }
      ]
    }
  ]
}