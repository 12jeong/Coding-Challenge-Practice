{
  "nbformat": 4,
  "nbformat_minor": 0,
  "metadata": {
    "colab": {
      "name": "bfs_dfs_level3(1).ipynb",
      "provenance": [],
      "collapsed_sections": [],
      "authorship_tag": "ABX9TyM1iWIakjIUn450kfua6FhC",
      "include_colab_link": true
    },
    "kernelspec": {
      "name": "python3",
      "display_name": "Python 3"
    }
  },
  "cells": [
    {
      "cell_type": "markdown",
      "metadata": {
        "id": "view-in-github",
        "colab_type": "text"
      },
      "source": [
        "<a href=\"https://colab.research.google.com/github/12jeong/Coding-Challenge-Practice/blob/master/programmers/bfs_dfs_level3(1).ipynb\" target=\"_parent\"><img src=\"https://colab.research.google.com/assets/colab-badge.svg\" alt=\"Open In Colab\"/></a>"
      ]
    },
    {
      "cell_type": "markdown",
      "metadata": {
        "id": "35Ra4YAY095x",
        "colab_type": "text"
      },
      "source": [
        "### 네트워크\n",
        "https://programmers.co.kr/learn/courses/30/lessons/43162"
      ]
    },
    {
      "cell_type": "markdown",
      "metadata": {
        "id": "KD1uf8sR3Wbm",
        "colab_type": "text"
      },
      "source": [
        "접근방법 : 시작노드를 바꿔가며 가능한 모든 route를 찾고 중복을 제거한 set 개수를 반환\n",
        "- 코드 너무 더럽다... ㅠㅠ"
      ]
    },
    {
      "cell_type": "code",
      "metadata": {
        "id": "ievdUtvx07JG",
        "colab_type": "code",
        "colab": {}
      },
      "source": [
        "import numpy as np\n",
        "def solution(n, computers):\n",
        "    answer = 0\n",
        "    candidate = []\n",
        "    for start_node in range(n):\n",
        "        visit = dict()\n",
        "        stack = list()\n",
        "        stack.append(start_node)\n",
        "        while stack:\n",
        "            node = stack.pop()\n",
        "            if node not in visit:\n",
        "                visit[node] = True\n",
        "                next_node = list(np.where([x==1 for x in computers[node]])[0])\n",
        "                next_node.remove(node)\n",
        "                stack.extend(next_node)  \n",
        "        candidate.append(list(visit.keys()))\n",
        "    \n",
        "    candidate = list(set([tuple(set(item)) for item in candidate]))    ## 리스트 안의 리스트 중복이 없는 것 찾기\n",
        "    return len(candidate)"
      ],
      "execution_count": 0,
      "outputs": []
    }
  ]
}