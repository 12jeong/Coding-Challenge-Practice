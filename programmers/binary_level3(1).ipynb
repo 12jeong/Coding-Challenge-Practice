{
  "nbformat": 4,
  "nbformat_minor": 0,
  "metadata": {
    "colab": {
      "name": "binary_level3(1).ipynb",
      "provenance": [],
      "collapsed_sections": [],
      "authorship_tag": "ABX9TyPov5Pi4LThRPbVj7pRmzuU",
      "include_colab_link": true
    },
    "kernelspec": {
      "name": "python3",
      "display_name": "Python 3"
    }
  },
  "cells": [
    {
      "cell_type": "markdown",
      "metadata": {
        "id": "view-in-github",
        "colab_type": "text"
      },
      "source": [
        "<a href=\"https://colab.research.google.com/github/12jeong/Coding-Challenge-Practice/blob/master/programmers/binary_level3(1).ipynb\" target=\"_parent\"><img src=\"https://colab.research.google.com/assets/colab-badge.svg\" alt=\"Open In Colab\"/></a>"
      ]
    },
    {
      "cell_type": "markdown",
      "metadata": {
        "id": "MamOlxzC24UO",
        "colab_type": "text"
      },
      "source": [
        "### 예산\n",
        "https://programmers.co.kr/learn/courses/30/lessons/43237"
      ]
    },
    {
      "cell_type": "markdown",
      "metadata": {
        "id": "nVyCQ5ae260D",
        "colab_type": "text"
      },
      "source": [
        "1차 시도 - 테스트 4,5,9 실패"
      ]
    },
    {
      "cell_type": "code",
      "metadata": {
        "id": "6Txs_lQwt3Wy",
        "colab_type": "code",
        "colab": {}
      },
      "source": [
        "def cut_budget(x,m):\n",
        "    if x>=m:\n",
        "        return m\n",
        "    else:\n",
        "        return x\n",
        "\n",
        "def solution(budgets, M):\n",
        "    new_budgets = sorted(budgets)\n",
        "    if (sum(new_budgets)<=M):\n",
        "        return new_budgets[-1] \n",
        "    mini = new_budgets[0]\n",
        "    maxi = new_budgets[-1]\n",
        "    medi = int((mini+maxi)/2)\n",
        "    candidates = {}\n",
        "    while (maxi!=medi)&(mini!=medi):\n",
        "        new_budgets = [cut_budget(x,medi) for x in budgets]\n",
        "        m = sum(new_budgets)\n",
        "        if (m>M):\n",
        "            maxi = medi-1\n",
        "        else:\n",
        "            candidates.update({medi : m})\n",
        "            mini = medi+1\n",
        "        medi = int((mini+maxi)/2)\n",
        "        print(mini,medi,maxi)\n",
        "        \n",
        "    answer = max(candidates, key=candidates.get)\n",
        "\n",
        "    return answer"
      ],
      "execution_count": 0,
      "outputs": []
    },
    {
      "cell_type": "code",
      "metadata": {
        "id": "DNFMOjcg57ac",
        "colab_type": "code",
        "outputId": "7fde4952-85dc-4820-953a-691aa61a4641",
        "colab": {
          "base_uri": "https://localhost:8080/",
          "height": 105
        }
      },
      "source": [
        "solution(budgets, 485)"
      ],
      "execution_count": 0,
      "outputs": [
        {
          "output_type": "stream",
          "text": [
            "110 119 129\n",
            "120 124 129\n",
            "125 127 129\n",
            "128 128 129\n"
          ],
          "name": "stdout"
        },
        {
          "output_type": "execute_result",
          "data": {
            "text/plain": [
              "127"
            ]
          },
          "metadata": {
            "tags": []
          },
          "execution_count": 69
        }
      ]
    },
    {
      "cell_type": "markdown",
      "metadata": {
        "id": "qybLE0KfBjy5",
        "colab_type": "text"
      },
      "source": [
        "2차 시도 - 테스트 9 런타임 에러\n",
        "- While 조건은 mini<=maxi\n",
        "- "
      ]
    },
    {
      "cell_type": "code",
      "metadata": {
        "id": "HUVQeJqU60sQ",
        "colab_type": "code",
        "colab": {}
      },
      "source": [
        "def cut_budget(x,m):\n",
        "    if x>=m:\n",
        "        return m\n",
        "    else:\n",
        "        return x\n",
        "\n",
        "def solution(budgets, M):\n",
        "    new_budgets = sorted(budgets)\n",
        "    if (sum(new_budgets)<=M):\n",
        "        return new_budgets[-1] \n",
        "    mini = new_budgets[0]\n",
        "    maxi = new_budgets[-1]\n",
        "    medi = int((mini+maxi)/2)\n",
        "    candidates = {}\n",
        "    while mini<=maxi:\n",
        "        new_budgets = [cut_budget(x,medi) for x in budgets]\n",
        "        m = sum(new_budgets)\n",
        "        if (m>M):\n",
        "            maxi = medi-1\n",
        "        else:\n",
        "            candidates.update({medi : m})\n",
        "            mini = medi+1\n",
        "        medi = int((mini+maxi)/2)\n",
        "        print(mini,medi,maxi)\n",
        "        \n",
        "    answer = max(candidates, key=candidates.get)\n",
        "\n",
        "    return answer"
      ],
      "execution_count": 0,
      "outputs": []
    },
    {
      "cell_type": "code",
      "metadata": {
        "id": "v8azn1ROGnxl",
        "colab_type": "code",
        "outputId": "1d05657d-01cc-45f8-a154-fb9d2de51e14",
        "colab": {
          "base_uri": "https://localhost:8080/",
          "height": 71
        }
      },
      "source": [
        "solution([1,1,1,2],M=4)"
      ],
      "execution_count": 2,
      "outputs": [
        {
          "output_type": "stream",
          "text": [
            "2 2 2\n",
            "2 1 1\n"
          ],
          "name": "stdout"
        },
        {
          "output_type": "execute_result",
          "data": {
            "text/plain": [
              "1"
            ]
          },
          "metadata": {
            "tags": []
          },
          "execution_count": 2
        }
      ]
    },
    {
      "cell_type": "markdown",
      "metadata": {
        "id": "Wmk8O82dCQNc",
        "colab_type": "text"
      },
      "source": [
        "초기 min 값은 0으로 놓는것이 좋다\n",
        "- 최저 예산 = 5 가 총예산/도시의수 = 1 보다 큰 경우 해를 못찾는다."
      ]
    },
    {
      "cell_type": "code",
      "metadata": {
        "id": "jj7yNa3PCMxE",
        "colab_type": "code",
        "colab": {
          "base_uri": "https://localhost:8080/",
          "height": 334
        },
        "outputId": "488592d5-bf95-4e20-c9c0-ce23a8728eb5"
      },
      "source": [
        "solution([9,8,5,6,7],M=5)"
      ],
      "execution_count": 7,
      "outputs": [
        {
          "output_type": "stream",
          "text": [
            "5 5 6\n",
            "5 4 4\n"
          ],
          "name": "stdout"
        },
        {
          "output_type": "error",
          "ename": "ValueError",
          "evalue": "ignored",
          "traceback": [
            "\u001b[0;31m---------------------------------------------------------------------------\u001b[0m",
            "\u001b[0;31mValueError\u001b[0m                                Traceback (most recent call last)",
            "\u001b[0;32m<ipython-input-7-88a44683baee>\u001b[0m in \u001b[0;36m<module>\u001b[0;34m()\u001b[0m\n\u001b[0;32m----> 1\u001b[0;31m \u001b[0msolution\u001b[0m\u001b[0;34m(\u001b[0m\u001b[0;34m[\u001b[0m\u001b[0;36m9\u001b[0m\u001b[0;34m,\u001b[0m\u001b[0;36m8\u001b[0m\u001b[0;34m,\u001b[0m\u001b[0;36m5\u001b[0m\u001b[0;34m,\u001b[0m\u001b[0;36m6\u001b[0m\u001b[0;34m,\u001b[0m\u001b[0;36m7\u001b[0m\u001b[0;34m]\u001b[0m\u001b[0;34m,\u001b[0m\u001b[0mM\u001b[0m\u001b[0;34m=\u001b[0m\u001b[0;36m5\u001b[0m\u001b[0;34m)\u001b[0m\u001b[0;34m\u001b[0m\u001b[0;34m\u001b[0m\u001b[0m\n\u001b[0m",
            "\u001b[0;32m<ipython-input-6-168c8ee1abd6>\u001b[0m in \u001b[0;36msolution\u001b[0;34m(budgets, M)\u001b[0m\n\u001b[1;32m     24\u001b[0m         \u001b[0mprint\u001b[0m\u001b[0;34m(\u001b[0m\u001b[0mmini\u001b[0m\u001b[0;34m,\u001b[0m\u001b[0mmedi\u001b[0m\u001b[0;34m,\u001b[0m\u001b[0mmaxi\u001b[0m\u001b[0;34m)\u001b[0m\u001b[0;34m\u001b[0m\u001b[0;34m\u001b[0m\u001b[0m\n\u001b[1;32m     25\u001b[0m \u001b[0;34m\u001b[0m\u001b[0m\n\u001b[0;32m---> 26\u001b[0;31m     \u001b[0manswer\u001b[0m \u001b[0;34m=\u001b[0m \u001b[0mmax\u001b[0m\u001b[0;34m(\u001b[0m\u001b[0mcandidates\u001b[0m\u001b[0;34m,\u001b[0m \u001b[0mkey\u001b[0m\u001b[0;34m=\u001b[0m\u001b[0mcandidates\u001b[0m\u001b[0;34m.\u001b[0m\u001b[0mget\u001b[0m\u001b[0;34m)\u001b[0m\u001b[0;34m\u001b[0m\u001b[0;34m\u001b[0m\u001b[0m\n\u001b[0m\u001b[1;32m     27\u001b[0m \u001b[0;34m\u001b[0m\u001b[0m\n\u001b[1;32m     28\u001b[0m     \u001b[0;32mreturn\u001b[0m \u001b[0manswer\u001b[0m\u001b[0;34m\u001b[0m\u001b[0;34m\u001b[0m\u001b[0m\n",
            "\u001b[0;31mValueError\u001b[0m: max() arg is an empty sequence"
          ]
        }
      ]
    },
    {
      "cell_type": "markdown",
      "metadata": {
        "id": "9xDHJrr0B4UQ",
        "colab_type": "text"
      },
      "source": [
        "3차 시도"
      ]
    },
    {
      "cell_type": "code",
      "metadata": {
        "id": "0wvlikkeBvKR",
        "colab_type": "code",
        "colab": {}
      },
      "source": [
        "def cut_budget(x,m):\n",
        "    if x>=m:\n",
        "        return m\n",
        "    else:\n",
        "        return x\n",
        "\n",
        "def solution(budgets, M):\n",
        "    new_budgets = sorted(budgets)\n",
        "    if (sum(new_budgets)<=M):\n",
        "        return new_budgets[-1] \n",
        "    mini = 0 \n",
        "    maxi = new_budgets[-1]\n",
        "    medi = int((mini+maxi)/2)\n",
        "    candidates = {}\n",
        "    while mini<=maxi:\n",
        "        new_budgets = [cut_budget(x,medi) for x in budgets]\n",
        "        m = sum(new_budgets)\n",
        "        if (m>M):\n",
        "            maxi = medi-1\n",
        "        else:\n",
        "            candidates.update({medi : m})\n",
        "            mini = medi+1\n",
        "        medi = int((mini+maxi)/2)\n",
        "        print(mini,medi,maxi)\n",
        "        \n",
        "    answer = max(candidates, key=candidates.get)\n",
        "\n",
        "    return answer"
      ],
      "execution_count": 0,
      "outputs": []
    },
    {
      "cell_type": "code",
      "metadata": {
        "id": "Fqt8qdTjCHyX",
        "colab_type": "code",
        "colab": {
          "base_uri": "https://localhost:8080/",
          "height": 89
        },
        "outputId": "6e5113b5-70f5-46bb-d9b5-8a0318593723"
      },
      "source": [
        "solution([9,8,5,6,7],M=5)"
      ],
      "execution_count": 4,
      "outputs": [
        {
          "output_type": "stream",
          "text": [
            "0 1 3\n",
            "2 2 3\n",
            "2 1 1\n"
          ],
          "name": "stdout"
        },
        {
          "output_type": "execute_result",
          "data": {
            "text/plain": [
              "1"
            ]
          },
          "metadata": {
            "tags": []
          },
          "execution_count": 4
        }
      ]
    }
  ]
}