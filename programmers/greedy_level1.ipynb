{
  "nbformat": 4,
  "nbformat_minor": 0,
  "metadata": {
    "colab": {
      "name": "greedy_level1.ipynb",
      "provenance": [],
      "authorship_tag": "ABX9TyNGvKH3Xbyg1z6glP9RasqG",
      "include_colab_link": true
    },
    "kernelspec": {
      "name": "python3",
      "display_name": "Python 3"
    }
  },
  "cells": [
    {
      "cell_type": "markdown",
      "metadata": {
        "id": "view-in-github",
        "colab_type": "text"
      },
      "source": [
        "<a href=\"https://colab.research.google.com/github/12jeong/Coding-Challenge-Practice/blob/master/programmers/greedy_level1.ipynb\" target=\"_parent\"><img src=\"https://colab.research.google.com/assets/colab-badge.svg\" alt=\"Open In Colab\"/></a>"
      ]
    },
    {
      "cell_type": "markdown",
      "metadata": {
        "id": "9tuC_0wYxShH",
        "colab_type": "text"
      },
      "source": [
        "### 모의고사\n",
        "https://programmers.co.kr/learn/courses/30/lessons/42840"
      ]
    },
    {
      "cell_type": "markdown",
      "metadata": {
        "id": "yUVSSo3SxUeq",
        "colab_type": "text"
      },
      "source": [
        "미리 문제 개수만큼 예상 정답리스트를 만들어주고 (given_answer) 계산"
      ]
    },
    {
      "cell_type": "code",
      "metadata": {
        "id": "zTaLiR59xUCs",
        "colab_type": "code",
        "colab": {}
      },
      "source": [
        "def solution(answers):\n",
        "    n = len(answers)\n",
        "    how_answer = [[1,2,3,4,5],[2,1,2,3,2,4,2,5],[3,3,1,1,2,2,4,4,5,5]]\n",
        "    given_answer = [x*(len(x)//n) + x[:(len(x)%n)] for x in how_answer]  \n",
        "    n1 = 0\n",
        "    n2 = 0\n",
        "    n3 = 0\n",
        "    for i in range(n):\n",
        "        check_list = [x[i] == answers[i] for x in given_answer]\n",
        "        n1 += check_list[0]\n",
        "        n2 += check_list[1]\n",
        "        n3 += check_list[2]\n",
        "    a = [n1,n2,n3]\n",
        "    answer = sorted([i+1 for i, j in enumerate(a) if j == max(a)])\n",
        "    return answer\n"
      ],
      "execution_count": 0,
      "outputs": []
    }
  ]
}