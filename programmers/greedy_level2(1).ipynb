{
  "nbformat": 4,
  "nbformat_minor": 0,
  "metadata": {
    "colab": {
      "name": "greedy_level2(1).ipynb",
      "provenance": [],
      "collapsed_sections": [],
      "authorship_tag": "ABX9TyONhZCiN9BNX9WL3Q7Unp14",
      "include_colab_link": true
    },
    "kernelspec": {
      "name": "python3",
      "display_name": "Python 3"
    }
  },
  "cells": [
    {
      "cell_type": "markdown",
      "metadata": {
        "id": "view-in-github",
        "colab_type": "text"
      },
      "source": [
        "<a href=\"https://colab.research.google.com/github/12jeong/Coding-Challenge-Practice/blob/master/programmers/greedy_level2(1).ipynb\" target=\"_parent\"><img src=\"https://colab.research.google.com/assets/colab-badge.svg\" alt=\"Open In Colab\"/></a>"
      ]
    },
    {
      "cell_type": "markdown",
      "metadata": {
        "id": "PGHdzlvyzK54",
        "colab_type": "text"
      },
      "source": [
        "### 소수 찾기\n",
        "https://programmers.co.kr/learn/courses/30/lessons/42839"
      ]
    },
    {
      "cell_type": "markdown",
      "metadata": {
        "id": "UXtBuuNp9wYV",
        "colab_type": "text"
      },
      "source": [
        "1차 시도 \n",
        "- 그럴줄 알았지! 10개 중 4개 시간초과 (실패)\n",
        "- 모든 조합(1)을 구한 뒤 각 숫자보다 작은 값으로 모두 나눈(2) 뒤 나머지가 0이 아닌지 확인(3)하였다.\n",
        "- (1), (2), (3)에서 많은 시간 소요 예상"
      ]
    },
    {
      "cell_type": "code",
      "metadata": {
        "id": "84WYIOBK90Rx",
        "colab_type": "code",
        "colab": {}
      },
      "source": [
        "from itertools import permutations\n",
        "def solution(numbers):\n",
        "    numbers = [x for x in numbers]\n",
        "    n = len(numbers)\n",
        "    primes = []\n",
        "    if '2' in numbers:\n",
        "        primes.append(2)\n",
        "    for i in range(n):\n",
        "        candidate = list( permutations(numbers,i+1))    # (1)\n",
        "        candidate = sorted([int(''.join(x)) for x in candidate])  # sorted 필요 없을 것 같기도\n",
        "        for j in candidate:\n",
        "            if (j==1) | (j==0):  # 이것도 낭비지\n",
        "                continue\n",
        "            r = []\n",
        "            for k in range(2,j):     \n",
        "                r.append(j%k)                           # (2)\n",
        "            if all([x>0 for x in r]):                   # (3)\n",
        "                primes.append(j)\n",
        "    return len(list(set(primes))) # 중복제거"
      ],
      "execution_count": 0,
      "outputs": []
    },
    {
      "cell_type": "markdown",
      "metadata": {
        "id": "2AgKTSS--zHL",
        "colab_type": "text"
      },
      "source": [
        "2차 시도"
      ]
    },
    {
      "cell_type": "code",
      "metadata": {
        "id": "dyDNxZ-j-z0V",
        "colab_type": "code",
        "colab": {}
      },
      "source": [
        "from itertools import permutations\n",
        "def solution(numbers):\n",
        "    numbers = [x for x in numbers]\n",
        "    n = len(numbers)\n",
        "    primes = []\n",
        "    if '2' in numbers:\n",
        "        primes.append(2)\n",
        "    for i in range(n):\n",
        "        candidate = list( permutations(numbers,i+1))    # (1)\n",
        "        candidate = [int(''.join(x)) for x in candidate] \n",
        "        for j in candidate:\n",
        "            r = []\n",
        "            for k in range(2,j):     \n",
        "                r.append(j%k)                           # (2) 소수가 아닌게 판명나면 더 계산하지말고 벗어나기\n",
        "                if (r[-1]==0):\n",
        "                    break\n",
        "            if all([x>0 for x in r]):                   # (3)\n",
        "                primes.append(j)\n",
        "    primes = list(filter(lambda a: (a != 0) & (a != 1), primes))   # 0이나 1있으면 제거   (filter 좋다...)            \n",
        "    return len(list(set(primes))) # 중복제거"
      ],
      "execution_count": 0,
      "outputs": []
    }
  ]
}