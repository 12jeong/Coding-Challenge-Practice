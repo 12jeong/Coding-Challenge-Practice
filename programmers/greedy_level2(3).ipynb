{
  "nbformat": 4,
  "nbformat_minor": 0,
  "metadata": {
    "colab": {
      "name": "greedy_level2(3).ipynb",
      "provenance": [],
      "authorship_tag": "ABX9TyPMheRufGuwPes9GgI0lVq4",
      "include_colab_link": true
    },
    "kernelspec": {
      "name": "python3",
      "display_name": "Python 3"
    }
  },
  "cells": [
    {
      "cell_type": "markdown",
      "metadata": {
        "id": "view-in-github",
        "colab_type": "text"
      },
      "source": [
        "<a href=\"https://colab.research.google.com/github/12jeong/Coding-Challenge-Practice/blob/master/programmers/greedy_level2(3).ipynb\" target=\"_parent\"><img src=\"https://colab.research.google.com/assets/colab-badge.svg\" alt=\"Open In Colab\"/></a>"
      ]
    },
    {
      "cell_type": "markdown",
      "metadata": {
        "id": "PpzgBTFpttHj",
        "colab_type": "text"
      },
      "source": [
        "### 카펫\n",
        "https://programmers.co.kr/learn/courses/30/lessons/42842\n"
      ]
    },
    {
      "cell_type": "markdown",
      "metadata": {
        "id": "2OtGY5hRtyL1",
        "colab_type": "text"
      },
      "source": [
        "- brown 테두리 개수에서 모서리 개수(4)를 뺀뒤 = xy\n",
        "- 가로와 세로의 합이 xy를 만족하고\n",
        "- 가로와 세로의 곱(x*y)이 red개수를 만족하면 return\n",
        "- 단, 가로의 개수는 세로의 개수보다 길거나 같아야 한다."
      ]
    },
    {
      "cell_type": "code",
      "metadata": {
        "id": "lO4SGqHStslG",
        "colab_type": "code",
        "colab": {}
      },
      "source": [
        "def solution(brown, red):\n",
        "    brown = brown-4\n",
        "    xy = int(brown/2)\n",
        "    for y in range(1,xy):\n",
        "        x = xy-y\n",
        "        if (x*y == red):\n",
        "            return([x+2,y+2])\n",
        "    return answer"
      ],
      "execution_count": 0,
      "outputs": []
    }
  ]
}