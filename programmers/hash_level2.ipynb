{
  "nbformat": 4,
  "nbformat_minor": 0,
  "metadata": {
    "colab": {
      "name": "hash_level2.ipynb",
      "provenance": [],
      "authorship_tag": "ABX9TyPWQdb1HyeHdkkusvEnJzO1",
      "include_colab_link": true
    },
    "kernelspec": {
      "name": "python3",
      "display_name": "Python 3"
    }
  },
  "cells": [
    {
      "cell_type": "markdown",
      "metadata": {
        "id": "view-in-github",
        "colab_type": "text"
      },
      "source": [
        "<a href=\"https://colab.research.google.com/github/12jeong/Coding-Challenge-Practice/blob/master/programmers/hash_level2.ipynb\" target=\"_parent\"><img src=\"https://colab.research.google.com/assets/colab-badge.svg\" alt=\"Open In Colab\"/></a>"
      ]
    },
    {
      "cell_type": "markdown",
      "metadata": {
        "id": "4IpFW7Ozx-LC",
        "colab_type": "text"
      },
      "source": [
        "### 전화번호 목록\n",
        "https://programmers.co.kr/learn/courses/30/parts/12077"
      ]
    },
    {
      "cell_type": "markdown",
      "metadata": {
        "id": "N7Yz9t-OyB2Q",
        "colab_type": "text"
      },
      "source": [
        "1차 시도  -  테스트셋11번 실패"
      ]
    },
    {
      "cell_type": "code",
      "metadata": {
        "id": "g-UA4ZU1yCPT",
        "colab_type": "code",
        "colab": {}
      },
      "source": [
        "import numpy as np\n",
        "def solution(phone_book):\n",
        "    for i in phone_book:\n",
        "        tmp = [x[0:len(i)] for x in phone_book]\n",
        "        if len(np.unique(tmp)) < len(phone_book):\n",
        "            return False\n",
        "            break\n",
        "        else:\n",
        "            continue\n",
        "    return True"
      ],
      "execution_count": 0,
      "outputs": []
    },
    {
      "cell_type": "code",
      "metadata": {
        "id": "5Qz-se7ZyijA",
        "colab_type": "code",
        "colab": {}
      },
      "source": [
        "phone_book = ['111113','1112','12']\n",
        "# 이 경우 [11,11,12] 에서 앞의 두개가 중복이므로 False를 반환하게 된다. "
      ],
      "execution_count": 0,
      "outputs": []
    },
    {
      "cell_type": "markdown",
      "metadata": {
        "id": "1WOCgcesyth7",
        "colab_type": "text"
      },
      "source": [
        "2차 시도 - 문자열 길이로 sort해서 차례대로 풀어본다 (성공)"
      ]
    },
    {
      "cell_type": "code",
      "metadata": {
        "id": "1-Y_Ekznx9mu",
        "colab_type": "code",
        "colab": {}
      },
      "source": [
        "def solution(phone_book):\n",
        "    phone_book_len = [len(x) for x in phone_book]\n",
        "    order = np.argsort(phone_book_len) # argsort:ascending 순서반환\n",
        "    phone_book_sorted =  [phone_book[order[j]] for j in range(len(order))]\n",
        "    for i in phone_book_sorted :\n",
        "        if i==phone_book_sorted[-1]:\n",
        "            return True\n",
        "        tmp = [x[0:len(i)]==i for x in phone_book_sorted]\n",
        "        if sum(tmp) > 1:\n",
        "            return False\n",
        "        else:\n",
        "            continue\n",
        "        return True\n"
      ],
      "execution_count": 0,
      "outputs": []
    },
    {
      "cell_type": "markdown",
      "metadata": {
        "id": "cmvFKZBzy_S-",
        "colab_type": "text"
      },
      "source": [
        "Cheating1 - startswith, zip? "
      ]
    },
    {
      "cell_type": "code",
      "metadata": {
        "id": "eYfKPhqpy-ww",
        "colab_type": "code",
        "colab": {}
      },
      "source": [
        "def solution(phone_book):\n",
        "    phone_book.sort() # 왜 이렇게 sort하지 ? 문자열인데? \n",
        "\n",
        "    for p1, p2 in zip(phone_book, phone_book[1:]):\n",
        "        if p2.startswith(p1):\n",
        "            return False\n",
        "    return True\n"
      ],
      "execution_count": 0,
      "outputs": []
    },
    {
      "cell_type": "markdown",
      "metadata": {
        "id": "FE4ZHUN806CQ",
        "colab_type": "text"
      },
      "source": [
        "Cheating2 - 순서대로 다음 것만 보면 되니까 효율적\n"
      ]
    },
    {
      "cell_type": "code",
      "metadata": {
        "id": "4vx1z7aS062k",
        "colab_type": "code",
        "colab": {}
      },
      "source": [
        "def solution(phone_book): \n",
        "    phone_book.sort() \n",
        "    for idx in range(len(phone_book)-1): \n",
        "        if phone_book[idx] in phone_book[idx+1]: \n",
        "            return False \n",
        "        return True "
      ],
      "execution_count": 0,
      "outputs": []
    },
    {
      "cell_type": "markdown",
      "metadata": {
        "id": "p1ZOvJvj1X_2",
        "colab_type": "text"
      },
      "source": [
        "Cheating3 - 해쉬를 쓴 예 "
      ]
    },
    {
      "cell_type": "code",
      "metadata": {
        "id": "tfC2NI8R1uQ-",
        "colab_type": "code",
        "colab": {}
      },
      "source": [
        "def solution(phone_book):\n",
        "    answer = True\n",
        "    hash_map = {}\n",
        "    for phone_number in phone_book:\n",
        "        hash_map[phone_number] = 1\n",
        "    for phone_number in phone_book:\n",
        "        temp = \"\"\n",
        "        for number in phone_number:\n",
        "            temp += number\n",
        "            if temp in hash_map and temp != phone_number:\n",
        "                answer = False\n",
        "    return answer"
      ],
      "execution_count": 0,
      "outputs": []
    },
    {
      "cell_type": "code",
      "metadata": {
        "id": "2n_AI9Oy2DpW",
        "colab_type": "code",
        "colab": {}
      },
      "source": [
        "phone_book = ['111113','1112','12']"
      ],
      "execution_count": 0,
      "outputs": []
    },
    {
      "cell_type": "code",
      "metadata": {
        "id": "IjlxBL8M2GKn",
        "colab_type": "code",
        "colab": {}
      },
      "source": [
        "hash_map = {}\n",
        "for phone_number in phone_book:\n",
        "    hash_map[phone_number] = 1"
      ],
      "execution_count": 0,
      "outputs": []
    },
    {
      "cell_type": "code",
      "metadata": {
        "id": "RSBK1FyA2Lgt",
        "colab_type": "code",
        "colab": {
          "base_uri": "https://localhost:8080/",
          "height": 35
        },
        "outputId": "ed629cf4-579c-40d6-cb77-d85dae2bc1b6"
      },
      "source": [
        "print(hash_map)"
      ],
      "execution_count": 8,
      "outputs": [
        {
          "output_type": "stream",
          "text": [
            "{'111113': 1, '1112': 1, '12': 1}\n"
          ],
          "name": "stdout"
        }
      ]
    },
    {
      "cell_type": "code",
      "metadata": {
        "id": "tmSBsyFt3Gq3",
        "colab_type": "code",
        "colab": {
          "base_uri": "https://localhost:8080/",
          "height": 287
        },
        "outputId": "8e55eda6-c770-4945-c4da-803eafe9c335"
      },
      "source": [
        "for phone_number in phone_book:\n",
        "    temp = \"\"\n",
        "    for number in phone_number:\n",
        "        temp += number\n",
        "        print(temp)\n",
        "        if temp in hash_map and temp != phone_number:\n",
        "            answer = False\n",
        "    print('-----------')        "
      ],
      "execution_count": 9,
      "outputs": [
        {
          "output_type": "stream",
          "text": [
            "1\n",
            "11\n",
            "111\n",
            "1111\n",
            "11111\n",
            "111113\n",
            "-----------\n",
            "1\n",
            "11\n",
            "111\n",
            "1112\n",
            "-----------\n",
            "1\n",
            "12\n",
            "-----------\n"
          ],
          "name": "stdout"
        }
      ]
    }
  ]
}