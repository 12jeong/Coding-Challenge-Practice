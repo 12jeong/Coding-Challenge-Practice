{
  "nbformat": 4,
  "nbformat_minor": 0,
  "metadata": {
    "colab": {
      "name": "hash_level3.ipynb",
      "provenance": [],
      "collapsed_sections": [],
      "authorship_tag": "ABX9TyOUZA4VIhkfb3JDPQyxjxPJ",
      "include_colab_link": true
    },
    "kernelspec": {
      "name": "python3",
      "display_name": "Python 3"
    }
  },
  "cells": [
    {
      "cell_type": "markdown",
      "metadata": {
        "id": "view-in-github",
        "colab_type": "text"
      },
      "source": [
        "<a href=\"https://colab.research.google.com/github/12jeong/Coding-Challenge-Practice/blob/master/programmers/hash_level3.ipynb\" target=\"_parent\"><img src=\"https://colab.research.google.com/assets/colab-badge.svg\" alt=\"Open In Colab\"/></a>"
      ]
    },
    {
      "cell_type": "markdown",
      "metadata": {
        "id": "A4ew4zdi5vvo",
        "colab_type": "text"
      },
      "source": [
        "### 위장\n",
        "https://programmers.co.kr/learn/courses/30/parts/12077"
      ]
    },
    {
      "cell_type": "markdown",
      "metadata": {
        "id": "Jl8llhph5wQU",
        "colab_type": "text"
      },
      "source": [
        "1차 시도 - 예제2에서 실패"
      ]
    },
    {
      "cell_type": "code",
      "metadata": {
        "id": "LI34dxkD3hO9",
        "colab_type": "code",
        "colab": {}
      },
      "source": [
        "import numpy as np\n",
        "import collections\n",
        "\n",
        "def solution(clothes):\n",
        "    answer = len(clothes)\n",
        "    count_list = collections.Counter([x[1] for x in clothes])\n",
        "    answer += np.prod(list(count_list.values()))\n",
        "    return answer\n"
      ],
      "execution_count": 0,
      "outputs": []
    },
    {
      "cell_type": "code",
      "metadata": {
        "id": "Zs0jgwaQ5yvO",
        "colab_type": "code",
        "colab": {
          "base_uri": "https://localhost:8080/",
          "height": 35
        },
        "outputId": "c45dc27e-c8ef-4335-c815-bb08b4fa6c47"
      },
      "source": [
        "clothes = [[\"crow_mask\", \"face\"], [\"blue_sunglasses\", \"face\"], [\"smoky_makeup\", \"face\"]]\n",
        "solution(clothes) # answer=3"
      ],
      "execution_count": 6,
      "outputs": [
        {
          "output_type": "execute_result",
          "data": {
            "text/plain": [
              "3"
            ]
          },
          "metadata": {
            "tags": []
          },
          "execution_count": 6
        }
      ]
    },
    {
      "cell_type": "markdown",
      "metadata": {
        "id": "dSwXHcXC6EZf",
        "colab_type": "text"
      },
      "source": [
        "2차 시도 - 테스트 28개 중 8개 통과... ㅎ "
      ]
    },
    {
      "cell_type": "code",
      "metadata": {
        "id": "cWcZ-5SH6DSB",
        "colab_type": "code",
        "colab": {}
      },
      "source": [
        "import numpy as np\n",
        "import collections\n",
        "\n",
        "def solution(clothes):\n",
        "    answer = len(clothes)\n",
        "    count_list = collections.Counter([x[1] for x in clothes])\n",
        "    if len(count_list)==1:\n",
        "        return answer\n",
        "    answer += np.prod(list(count_list.values()))\n",
        "    return answer\n"
      ],
      "execution_count": 0,
      "outputs": []
    },
    {
      "cell_type": "markdown",
      "metadata": {
        "id": "R2qY2MWgEl7I",
        "colab_type": "text"
      },
      "source": [
        "3차 시도 - 테스트 28개 중 1개 시간초과 (너무하네...) "
      ]
    },
    {
      "cell_type": "code",
      "metadata": {
        "id": "TsgxPZiW6ZeV",
        "colab_type": "code",
        "colab": {
          "base_uri": "https://localhost:8080/",
          "height": 35
        },
        "outputId": "6e29aeaa-7b8e-4b43-c408-71985380dc2f"
      },
      "source": [
        "import numpy as np\n",
        "import collections\n",
        "from itertools import combinations\n",
        "\n",
        "def solution(clothes):\n",
        "    answer = 0 \n",
        "    count_dict = collections.Counter([x[1] for x in clothes])\n",
        "    class_num = len(count_dict)\n",
        "    for i in range(class_num):\n",
        "        if i==0:\n",
        "            answer += len(clothes)\n",
        "        elif i==(class_num-1):\n",
        "            answer += np.product(list(count_dict.values()))            \n",
        "        else:\n",
        "            combination_list = list(combinations(list(count_dict.keys()),i+1))    # 아마 이 조합을 구하는 경우에서 오래 걸리는 듯 하다 \n",
        "            for comb in combination_list:\n",
        "                map_value = list(map(count_dict.get,comb)) # map + dict.get\n",
        "                answer += np.product(map_value)\n",
        "    return answer"
      ],
      "execution_count": 5,
      "outputs": [
        {
          "output_type": "execute_result",
          "data": {
            "text/plain": [
              "3"
            ]
          },
          "metadata": {
            "tags": []
          },
          "execution_count": 5
        }
      ]
    },
    {
      "cell_type": "markdown",
      "metadata": {
        "id": "bBRkQLtyHbhv",
        "colab_type": "text"
      },
      "source": [
        "Cheating - (의상종류+1)을 모두 곱한 후 -1 "
      ]
    },
    {
      "cell_type": "code",
      "metadata": {
        "id": "zDP6W7nxHazG",
        "colab_type": "code",
        "colab": {}
      },
      "source": [
        "import numpy as np\n",
        "import collections\n",
        "\n",
        "def solution(clothes):\n",
        "    count_dict = collections.Counter([x[1] for x in clothes])\n",
        "    \n",
        "    temp = [x+1 for x in list(count_dict.values())]\n",
        "    answer = np.product(temp)-1\n",
        "    return(answer)\n",
        "\n"
      ],
      "execution_count": 0,
      "outputs": []
    }
  ]
}