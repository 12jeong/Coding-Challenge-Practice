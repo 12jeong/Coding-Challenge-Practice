{
  "nbformat": 4,
  "nbformat_minor": 0,
  "metadata": {
    "colab": {
      "name": "hash_level4.ipynb",
      "provenance": [],
      "collapsed_sections": [],
      "authorship_tag": "ABX9TyNSeywbYa7u7K7ekf+Cxi1j",
      "include_colab_link": true
    },
    "kernelspec": {
      "name": "python3",
      "display_name": "Python 3"
    }
  },
  "cells": [
    {
      "cell_type": "markdown",
      "metadata": {
        "id": "view-in-github",
        "colab_type": "text"
      },
      "source": [
        "<a href=\"https://colab.research.google.com/github/12jeong/Coding-Challenge-Practice/blob/master/programmers/hash_level4.ipynb\" target=\"_parent\"><img src=\"https://colab.research.google.com/assets/colab-badge.svg\" alt=\"Open In Colab\"/></a>"
      ]
    },
    {
      "cell_type": "markdown",
      "metadata": {
        "id": "jhaEBTpVXjFu",
        "colab_type": "text"
      },
      "source": [
        "### 베스트앨범\n",
        "https://programmers.co.kr/learn/courses/30/lessons/42579"
      ]
    },
    {
      "cell_type": "markdown",
      "metadata": {
        "id": "yobk0ZKcXkR_",
        "colab_type": "text"
      },
      "source": [
        "1차 시도 - 테스트 15개 중 2,15 실패 (plays 수가 중복인 경우 문제)"
      ]
    },
    {
      "cell_type": "code",
      "metadata": {
        "id": "kD4VSqZKXim-",
        "colab_type": "code",
        "colab": {}
      },
      "source": [
        "import numpy as np\n",
        "import collections\n",
        "\n",
        "def solution(genres, plays):\n",
        "    answer = []\n",
        "\n",
        "    song_dict = {}\n",
        "    for key in np.unique(genres):\n",
        "        song_dict[key] = sorted([plays[i] for i in np.where([x==key for x in genres])[0].tolist()],reverse=True)\n",
        "    \n",
        "    genre_sum = {}\n",
        "    for key in song_dict:\n",
        "        genre_sum[key] = sum(song_dict[key])\n",
        "    genre_sum =  {k: v for k, v in sorted(genre_sum.items(), key=lambda item: item[1],reverse=True)}\n",
        "    \n",
        "    for key in genre_sum:\n",
        "        value = song_dict[key][0:2]\n",
        "        for val in value:\n",
        "            setA = set(np.where([x==key for x in genres])[0].tolist())\n",
        "            setB = set(np.where([y==val for y in plays])[0].tolist())\n",
        "            answer += list(setA & setB)\n",
        "    return answer\n",
        "\n"
      ],
      "execution_count": 0,
      "outputs": []
    },
    {
      "cell_type": "markdown",
      "metadata": {
        "id": "_2aAM5xdYj_j",
        "colab_type": "text"
      },
      "source": [
        "2차 시도 - 왜 안될까?"
      ]
    },
    {
      "cell_type": "code",
      "metadata": {
        "id": "HnqGG-OrcSJr",
        "colab_type": "code",
        "colab": {}
      },
      "source": [
        "import numpy as np\n",
        "import collections\n",
        "\n",
        "def solution(genres, plays):\n",
        "    answer = []\n",
        "\n",
        "    song_dict = {}\n",
        "    for key in np.unique(genres):\n",
        "        song_dict[key] = sorted([plays[i] for i in np.where([x==key for x in genres])[0].tolist()],reverse=True)\n",
        "    \n",
        "    genre_sum = {}\n",
        "    for key in song_dict:\n",
        "        genre_sum[key] = sum(song_dict[key])\n",
        "    genre_sum =  {k: v for k, v in sorted(genre_sum.items(), key=lambda item: item[1],reverse=True)}\n",
        "    \n",
        "    for key in genre_sum:\n",
        "        value = song_dict[key][0:2]\n",
        "        for val in value:  \n",
        "            setA = set(np.where([x==key for x in genres])[0].tolist())\n",
        "            setB = set(np.where([y==val for y in plays])[0].tolist())\n",
        "            answer_tmp = list(setA & setB)\n",
        "        \n",
        "            if len(answer_tmp)>1 :\n",
        "                answer +=[answer_tmp[0]]            \n",
        "            else:\n",
        "                answer += answer_tmp\n",
        "    return answer\n"
      ],
      "execution_count": 0,
      "outputs": []
    },
    {
      "cell_type": "code",
      "metadata": {
        "id": "mZOy0z9GcTiU",
        "colab_type": "code",
        "outputId": "63a77baf-994b-4078-b742-5df28327d9e9",
        "colab": {
          "base_uri": "https://localhost:8080/",
          "height": 35
        }
      },
      "source": [
        "genres = ['c','p','c','c','p']\n",
        "plays = [500,600,150,150,2500]\n",
        "print(solution(genres,plays))"
      ],
      "execution_count": 0,
      "outputs": [
        {
          "output_type": "stream",
          "text": [
            "[4, 1, 0, 2]\n"
          ],
          "name": "stdout"
        }
      ]
    },
    {
      "cell_type": "markdown",
      "metadata": {
        "id": "404JqrxZ38xF",
        "colab_type": "text"
      },
      "source": [
        "반례를 찾았다"
      ]
    },
    {
      "cell_type": "code",
      "metadata": {
        "id": "B6mvkVymcw2t",
        "colab_type": "code",
        "outputId": "0d1d416c-bd6e-40f7-8f5a-0c98756ec1c9",
        "colab": {
          "base_uri": "https://localhost:8080/",
          "height": 35
        }
      },
      "source": [
        "genres=['classic','pop','classic','pop','classic','classic']\n",
        "plays = [400,600,150,2500,500,500]\n",
        "solution(genres,plays) # [3,1,4,5] 나와야함"
      ],
      "execution_count": 0,
      "outputs": [
        {
          "output_type": "execute_result",
          "data": {
            "text/plain": [
              "[3, 1, 4, 4]"
            ]
          },
          "metadata": {
            "tags": []
          },
          "execution_count": 3
        }
      ]
    },
    {
      "cell_type": "markdown",
      "metadata": {
        "id": "Pt0NOLTogdD-",
        "colab_type": "text"
      },
      "source": [
        "3차 시도 - 위의 반례는 해결했으나... 에러가 더 심해졌다... "
      ]
    },
    {
      "cell_type": "code",
      "metadata": {
        "id": "WtXdmaMggh9N",
        "colab_type": "code",
        "colab": {}
      },
      "source": [
        "import numpy as np\n",
        "import collections\n",
        "\n",
        "\n",
        "def solution(genres, plays):\n",
        "    answer = []\n",
        "\n",
        "    song_dict = {}\n",
        "    for key in np.unique(genres):\n",
        "        song_dict[key] = sorted([plays[i] for i in np.where([x==key for x in genres])[0].tolist()],reverse=True)\n",
        "    \n",
        "    genre_sum = {}\n",
        "    for key in song_dict:\n",
        "        genre_sum[key] = sum(song_dict[key])\n",
        "    genre_sum =  {k: v for k, v in sorted(genre_sum.items(), key=lambda item: item[1],reverse=True)}\n",
        "    \n",
        "\n",
        "    for key in genre_sum:\n",
        "        value = song_dict[key][0:2]\n",
        "        for val in value:  \n",
        "            setA = set(np.where([x==key for x in genres])[0].tolist())\n",
        "            setB = set(np.where([y==val for y in plays])[0].tolist())\n",
        "            answer_tmp = list(setA & setB)\n",
        "        \n",
        "            if np.equal(value[0],value[1]):\n",
        "                answer += answer_tmp\n",
        "                value.pop()\n",
        "            elif len(answer_tmp)==1 :\n",
        "                answer += answer_tmp\n",
        "            else:\n",
        "                answer +=[answer_tmp[0]]            \n",
        "            \n",
        "    return answer"
      ],
      "execution_count": 0,
      "outputs": []
    },
    {
      "cell_type": "code",
      "metadata": {
        "id": "XIx2DpNBgn-H",
        "colab_type": "code",
        "outputId": "0bcb2224-2d82-437c-dc9e-2dd00123c9c6",
        "colab": {
          "base_uri": "https://localhost:8080/",
          "height": 35
        }
      },
      "source": [
        "genres=['classic','pop','classic','pop','classic','classic']\n",
        "plays = [400,600,150,2500,500,500]\n",
        "print(solution(genres,plays))"
      ],
      "execution_count": 0,
      "outputs": [
        {
          "output_type": "stream",
          "text": [
            "[3, 1, 4, 5]\n"
          ],
          "name": "stdout"
        }
      ]
    },
    {
      "cell_type": "markdown",
      "metadata": {
        "id": "QdiTqDTT33K2",
        "colab_type": "text"
      },
      "source": [
        "4차 시도 - 장르에 속한 곡이 하나인 경우가 있었다 ㅠ.ㅠ (통과!)"
      ]
    },
    {
      "cell_type": "code",
      "metadata": {
        "id": "oygYcwnD32q_",
        "colab_type": "code",
        "colab": {}
      },
      "source": [
        "import numpy as np\n",
        "import collections\n",
        "\n",
        "def solution(genres, plays):\n",
        "    answer = []\n",
        "\n",
        "    song_dict = {}\n",
        "    for key in np.unique(genres):\n",
        "        song_dict[key] = sorted([plays[i] for i in np.where([x==key for x in genres])[0].tolist()],reverse=True)\n",
        "\n",
        "    genre_sum = {}\n",
        "    for key in song_dict:\n",
        "        genre_sum[key] = sum(song_dict[key])\n",
        "    genre_sorted = [x[0] for x in sorted(genre_sum.items(), key=lambda item: item[1],reverse=True)]\n",
        "\n",
        "    for key in genre_sorted:\n",
        "\n",
        "        if len(song_dict[key])==1:  # 장르에 속한 노래가 1개인 경우\n",
        "            answer += np.where([x==key for x in genres])[0].tolist()\n",
        "        else : \n",
        "            value = song_dict[key][0:2]\n",
        "            for val in value: \n",
        "\n",
        "                setA = set(np.where([x==key for x in genres])[0].tolist())\n",
        "                setB = set(np.where([y==val for y in plays])[0].tolist())\n",
        "                answer_tmp = list(setA & setB)\n",
        "\n",
        "                if (np.equal(value[0],value[1])):  # plays 수가 중복 & 1,2등인 경우\n",
        "                    answer += answer_tmp\n",
        "                    break\n",
        "                elif len(answer_tmp)>1:            # 중복인 plays 수가 있는 경우\n",
        "                    answer += [answer_tmp[0]]            \n",
        "                else:\n",
        "                    answer += answer_tmp\n",
        "\n",
        "    return answer"
      ],
      "execution_count": 0,
      "outputs": []
    },
    {
      "cell_type": "code",
      "metadata": {
        "id": "ixsUEFMAFkxz",
        "colab_type": "code",
        "colab": {
          "base_uri": "https://localhost:8080/",
          "height": 34
        },
        "outputId": "2234f9e9-09d4-4350-824d-e9751102a6e0"
      },
      "source": [
        "genres=['classic','pop','classic','pop','classic','classic']\n",
        "plays = [400,600,150,2500,500,500]\n",
        "print(solution(genres,plays))"
      ],
      "execution_count": 97,
      "outputs": [
        {
          "output_type": "stream",
          "text": [
            "[[3], [1], [4, 5]]\n"
          ],
          "name": "stdout"
        }
      ]
    }
  ]
}
