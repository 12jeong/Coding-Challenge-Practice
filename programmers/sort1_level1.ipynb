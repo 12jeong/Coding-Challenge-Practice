{
  "nbformat": 4,
  "nbformat_minor": 0,
  "metadata": {
    "colab": {
      "name": "sort1-level1.ipynb",
      "provenance": [],
      "collapsed_sections": [],
      "authorship_tag": "ABX9TyN3kA4Na/R7Up1djyIcUxi5",
      "include_colab_link": true
    },
    "kernelspec": {
      "name": "python3",
      "display_name": "Python 3"
    }
  },
  "cells": [
    {
      "cell_type": "markdown",
      "metadata": {
        "id": "view-in-github",
        "colab_type": "text"
      },
      "source": [
        "<a href=\"https://colab.research.google.com/github/12jeong/Coding-Challenge-Practice/blob/master/programmers/sort1_level1.ipynb\" target=\"_parent\"><img src=\"https://colab.research.google.com/assets/colab-badge.svg\" alt=\"Open In Colab\"/></a>"
      ]
    },
    {
      "cell_type": "markdown",
      "metadata": {
        "id": "ZBLndIiK1fbV",
        "colab_type": "text"
      },
      "source": [
        "### K번째 수\n",
        "https://programmers.co.kr/learn/courses/30/lessons/42748"
      ]
    },
    {
      "cell_type": "code",
      "metadata": {
        "id": "mR3SbPOc1WSy",
        "colab_type": "code",
        "colab": {}
      },
      "source": [
        "def solution(array, commands):\n",
        "    answer = []\n",
        "    for command in commands:\n",
        "        i=command[0]-1 # 문제에서의 정수와 인덱싱이 다르다는 것을 주의\n",
        "        j=command[1]   # 끝 인덱싱 주의 \n",
        "        k=command[2]-1\n",
        "        \n",
        "        if (i==j):\n",
        "            answer.append(array[i])\n",
        "        else:\n",
        "            answer.append(sorted(array[i:j])[k])\n",
        "    return answer"
      ],
      "execution_count": 0,
      "outputs": []
    },
    {
      "cell_type": "markdown",
      "metadata": {
        "id": "PV_xc3zc1tPX",
        "colab_type": "text"
      },
      "source": [
        "Cheating - map을 이용한 한줄코드"
      ]
    },
    {
      "cell_type": "code",
      "metadata": {
        "id": "yytba7_11s5V",
        "colab_type": "code",
        "colab": {}
      },
      "source": [
        "def solution(array, commands):\n",
        "    return list(map(lambda x:sorted(array[x[0]-1:x[1]])[x[2]-1], commands))"
      ],
      "execution_count": 0,
      "outputs": []
    },
    {
      "cell_type": "markdown",
      "metadata": {
        "id": "frTHgCt71uyq",
        "colab_type": "text"
      },
      "source": [
        "Cheating2 - 리스트에서 한번에 i,j,k 받을 수 있음"
      ]
    },
    {
      "cell_type": "code",
      "metadata": {
        "id": "4W-BheZa1zTY",
        "colab_type": "code",
        "colab": {}
      },
      "source": [
        "def solution(array, commands):\n",
        "    answer = []\n",
        "    for command in commands:\n",
        "        i,j,k = command\n",
        "        answer.append(list(sorted(array[i-1:j]))[k-1])\n",
        "    return answer"
      ],
      "execution_count": 0,
      "outputs": []
    }
  ]
}