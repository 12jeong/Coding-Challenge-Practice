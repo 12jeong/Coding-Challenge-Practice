{
  "nbformat": 4,
  "nbformat_minor": 0,
  "metadata": {
    "colab": {
      "name": "sort_level2(2).ipynb",
      "provenance": [],
      "authorship_tag": "ABX9TyPy4iJuSNzXPpgZ2JksUsTi",
      "include_colab_link": true
    },
    "kernelspec": {
      "name": "python3",
      "display_name": "Python 3"
    }
  },
  "cells": [
    {
      "cell_type": "markdown",
      "metadata": {
        "id": "view-in-github",
        "colab_type": "text"
      },
      "source": [
        "<a href=\"https://colab.research.google.com/github/12jeong/Coding-Challenge-Practice/blob/master/programmers/sort_level2(2).ipynb\" target=\"_parent\"><img src=\"https://colab.research.google.com/assets/colab-badge.svg\" alt=\"Open In Colab\"/></a>"
      ]
    },
    {
      "cell_type": "markdown",
      "metadata": {
        "id": "bUxg-FKBECC7",
        "colab_type": "text"
      },
      "source": [
        "### H-index\n",
        "https://programmers.co.kr/learn/courses/30/lessons/42747"
      ]
    },
    {
      "cell_type": "markdown",
      "metadata": {
        "id": "qMBiNBTYIh1_",
        "colab_type": "text"
      },
      "source": [
        "1차 시도 - 16번 테스트 실패"
      ]
    },
    {
      "cell_type": "code",
      "metadata": {
        "id": "ZwrfR6wEDi4v",
        "colab_type": "code",
        "colab": {}
      },
      "source": [
        "def solution(citations):\n",
        "    candidate = []\n",
        "    for i in range(max(citations)):\n",
        "        check_list = [x>=i for x in citations]\n",
        "        h1 = sum(check_list)\n",
        "        h2 = len(citations)-h1\n",
        "        if (h1>=i) & (h2<=i):\n",
        "            candidate.append(i)\n",
        "        else:\n",
        "            continue\n",
        "    \n",
        "    answer = max(candidate)\n",
        "    return answer"
      ],
      "execution_count": 0,
      "outputs": []
    },
    {
      "cell_type": "markdown",
      "metadata": {
        "id": "YhVAWFW3Il3z",
        "colab_type": "text"
      },
      "source": [
        "또...또... 모두 0인 경우가 있었다...!"
      ]
    },
    {
      "cell_type": "code",
      "metadata": {
        "id": "NOF20NhvJADh",
        "colab_type": "code",
        "colab": {
          "base_uri": "https://localhost:8080/",
          "height": 280
        },
        "outputId": "61c4f9ee-9d5a-4b30-b1e9-5cc654b67e17"
      },
      "source": [
        "solution([0,0,0,0])"
      ],
      "execution_count": 3,
      "outputs": [
        {
          "output_type": "error",
          "ename": "ValueError",
          "evalue": "ignored",
          "traceback": [
            "\u001b[0;31m---------------------------------------------------------------------------\u001b[0m",
            "\u001b[0;31mValueError\u001b[0m                                Traceback (most recent call last)",
            "\u001b[0;32m<ipython-input-3-6410d83df4a1>\u001b[0m in \u001b[0;36m<module>\u001b[0;34m()\u001b[0m\n\u001b[0;32m----> 1\u001b[0;31m \u001b[0msolution\u001b[0m\u001b[0;34m(\u001b[0m\u001b[0;34m[\u001b[0m\u001b[0;36m0\u001b[0m\u001b[0;34m,\u001b[0m\u001b[0;36m0\u001b[0m\u001b[0;34m,\u001b[0m\u001b[0;36m0\u001b[0m\u001b[0;34m,\u001b[0m\u001b[0;36m0\u001b[0m\u001b[0;34m]\u001b[0m\u001b[0;34m)\u001b[0m\u001b[0;34m\u001b[0m\u001b[0;34m\u001b[0m\u001b[0m\n\u001b[0m",
            "\u001b[0;32m<ipython-input-2-86a80fca5616>\u001b[0m in \u001b[0;36msolution\u001b[0;34m(citations)\u001b[0m\n\u001b[1;32m     10\u001b[0m             \u001b[0;32mcontinue\u001b[0m\u001b[0;34m\u001b[0m\u001b[0;34m\u001b[0m\u001b[0m\n\u001b[1;32m     11\u001b[0m \u001b[0;34m\u001b[0m\u001b[0m\n\u001b[0;32m---> 12\u001b[0;31m     \u001b[0manswer\u001b[0m \u001b[0;34m=\u001b[0m \u001b[0mmax\u001b[0m\u001b[0;34m(\u001b[0m\u001b[0mcandidate\u001b[0m\u001b[0;34m)\u001b[0m\u001b[0;34m\u001b[0m\u001b[0;34m\u001b[0m\u001b[0m\n\u001b[0m\u001b[1;32m     13\u001b[0m     \u001b[0;32mreturn\u001b[0m \u001b[0manswer\u001b[0m\u001b[0;34m\u001b[0m\u001b[0;34m\u001b[0m\u001b[0m\n",
            "\u001b[0;31mValueError\u001b[0m: max() arg is an empty sequence"
          ]
        }
      ]
    },
    {
      "cell_type": "markdown",
      "metadata": {
        "id": "isDLNNQtJEa7",
        "colab_type": "text"
      },
      "source": [
        "2차 시도 (성공) - 문제의도는 sort인데... 쓰지 않았군"
      ]
    },
    {
      "cell_type": "code",
      "metadata": {
        "id": "pX5_r-HyIv50",
        "colab_type": "code",
        "colab": {}
      },
      "source": [
        "def solution(citations):\n",
        "    \n",
        "    if all([v==0 for v in citations]):\n",
        "        return 0\n",
        "    else:\n",
        "        candidate = []\n",
        "        for i in range(max(citations)):\n",
        "            check_list = [x>=i for x in citations]\n",
        "            h1 = sum(check_list)\n",
        "            h2 = len(citations)-h1\n",
        "            if (h1>=i) & (h2<=i):\n",
        "                candidate.append(i)\n",
        "            else:\n",
        "                continue        \n",
        "    answer = max(candidate)\n",
        "    return answer"
      ],
      "execution_count": 0,
      "outputs": []
    },
    {
      "cell_type": "markdown",
      "metadata": {
        "id": "fE6WJ8nLJsIx",
        "colab_type": "text"
      },
      "source": [
        "Cheating"
      ]
    },
    {
      "cell_type": "code",
      "metadata": {
        "id": "zjsRPXf4JvkJ",
        "colab_type": "code",
        "colab": {}
      },
      "source": [
        "def solution(citations):\n",
        "    citations = sorted(citations)  # sort를 하면 더 빨리 걸리겠다 + max함수도 안써도 됨\n",
        "    l = len(citations)\n",
        "    for i in range(l):\n",
        "        if citations[i] >= l-i:\n",
        "            return l-i\n",
        "    return 0"
      ],
      "execution_count": 0,
      "outputs": []
    }
  ]
}