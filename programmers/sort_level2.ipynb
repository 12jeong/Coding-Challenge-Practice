{
  "nbformat": 4,
  "nbformat_minor": 0,
  "metadata": {
    "colab": {
      "name": "sort_level2.ipynb",
      "provenance": [],
      "authorship_tag": "ABX9TyPwPsOZt84OrNuzKtmXBNBW",
      "include_colab_link": true
    },
    "kernelspec": {
      "name": "python3",
      "display_name": "Python 3"
    }
  },
  "cells": [
    {
      "cell_type": "markdown",
      "metadata": {
        "id": "view-in-github",
        "colab_type": "text"
      },
      "source": [
        "<a href=\"https://colab.research.google.com/github/12jeong/Coding-Challenge-Practice/blob/master/programmers/sort_level2.ipynb\" target=\"_parent\"><img src=\"https://colab.research.google.com/assets/colab-badge.svg\" alt=\"Open In Colab\"/></a>"
      ]
    },
    {
      "cell_type": "markdown",
      "metadata": {
        "id": "s37ILyFz2zsK",
        "colab_type": "text"
      },
      "source": [
        "### 가장 큰 수\n",
        "https://programmers.co.kr/learn/courses/30/lessons/42746"
      ]
    },
    {
      "cell_type": "markdown",
      "metadata": {
        "id": "6YlG8pPxBXt4",
        "colab_type": "text"
      },
      "source": [
        "1차 시도 (테스트 11에서 실패)\n",
        "- str에서 sort가 다르게 작동하는 것이 중요\n",
        "- sorted의 key 사용 ***"
      ]
    },
    {
      "cell_type": "code",
      "metadata": {
        "id": "YxA2TS0a20bQ",
        "colab_type": "code",
        "colab": {}
      },
      "source": [
        "def solution(numbers):\n",
        "\n",
        "    numbers = list(map(str,numbers)) # [str(x) for x in numbers]\n",
        "    answer = sorted(numbers, key=lambda x : ((str(x)*4)[0:4]) ,reverse=True)\n",
        "    answer = ''.join(answer)\n",
        "\n",
        "    return answer"
      ],
      "execution_count": 0,
      "outputs": []
    },
    {
      "cell_type": "markdown",
      "metadata": {
        "id": "cmxCpTCyC1pB",
        "colab_type": "text"
      },
      "source": [
        "answer = [0,0,0,0]인 경우가 있었다"
      ]
    },
    {
      "cell_type": "code",
      "metadata": {
        "id": "796pjkosC1NB",
        "colab_type": "code",
        "colab": {
          "base_uri": "https://localhost:8080/",
          "height": 35
        },
        "outputId": "363e7f36-0c60-42ed-df54-2731f90243b5"
      },
      "source": [
        "numbers = [0,0,0,0]\n",
        "solution(numbers)"
      ],
      "execution_count": 4,
      "outputs": [
        {
          "output_type": "execute_result",
          "data": {
            "text/plain": [
              "'0000'"
            ]
          },
          "metadata": {
            "tags": []
          },
          "execution_count": 4
        }
      ]
    },
    {
      "cell_type": "markdown",
      "metadata": {
        "id": "q94QbjHNDDot",
        "colab_type": "text"
      },
      "source": [
        "2차 시도"
      ]
    },
    {
      "cell_type": "code",
      "metadata": {
        "id": "NzTT-5_PDCEM",
        "colab_type": "code",
        "colab": {}
      },
      "source": [
        "def solution(numbers):\n",
        "    \n",
        "    if all(x == 0 for x in numbers):\n",
        "        answer = '0'\n",
        "\n",
        "    else:\n",
        "        numbers = list(map(str,numbers)) # [str(x) for x in numbers]\n",
        "        answer = sorted(numbers, key=lambda x : ((str(x)*4)[0:4]) ,reverse=True)\n",
        "        answer = ''.join(answer)\n",
        "\n",
        "    return answer"
      ],
      "execution_count": 0,
      "outputs": []
    }
  ]
}